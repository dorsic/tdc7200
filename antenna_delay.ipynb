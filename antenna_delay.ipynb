{
 "metadata": {
  "language_info": {
   "codemirror_mode": {
    "name": "ipython",
    "version": 3
   },
   "file_extension": ".py",
   "mimetype": "text/x-python",
   "name": "python",
   "nbconvert_exporter": "python",
   "pygments_lexer": "ipython3",
   "version": "3.7.3-final"
  },
  "orig_nbformat": 2,
  "kernelspec": {
   "name": "python3",
   "display_name": "Python 3.7.3 64-bit",
   "metadata": {
    "interpreter": {
     "hash": "31f2aee4e71d21fbe5cf8b01ff0e069b9275f58929596ceb00d14d90e3e16cd6"
    }
   }
  }
 },
 "nbformat": 4,
 "nbformat_minor": 2,
 "cells": [
  {
   "source": [
    "### GPS Antenna Delay\n",
    "\n",
    "\n"
   ],
   "cell_type": "markdown",
   "metadata": {}
  },
  {
   "source": [
    "#### Antenna_cable 4 Setup\n",
    "\n",
    "- The ImuBerry3 (192.168.1.72, RPi0) was generating 1 PPS signal fed into the stop pin of TDC7200 connected to RPi3 (192.168.1.68).\n",
    "- The external GPS was generating 16MHz clock signal fed into the clock pins of TDC7200 and PIC12F675. The PIC divided the signal to 1 PPS which was connected to start pin of the TDC.\n",
    "- GNSS configuration was same for both receivers - GPS, Galileo, Beidou, No SBAS, 0 cable and receiver delays, reported GPS time.\n",
    "\n",
    "First half of measurement (tof 35-38 ns) was during the day. The tof is slowly rising. \n",
    "\n",
    "Later, at 1609019587,  the PIC 1 PPS signal was fed into ExtInt0 of RPi0. The change in layout?, manipulation of the cables?, led to tof drop to 24-26 ns and its stabilized."
   ],
   "cell_type": "markdown",
   "metadata": {}
  },
  {
   "source": [
    "#### Antenna_cable 5 Setup\n",
    "\n",
    "- The ImuBerry3 (192.168.1.72, RPi0) was generating 6MHz signal fed into the stop pin of TDC7200 connected to RPi3 (192.168.1.68).\n",
    "- The external GPS was generating 16MHz clock signal fed into the clock pins of TDC7200 and PIC12F675. The PIC divided the signal to 1 PPS which was connected to start pin of the TDC.\n",
    "- GNSS configuration was same for both receivers - GPS, Galileo, Beidou, No SBAS, 0 cable and receiver delays, reported GPS time.\n",
    "- TDC7200 was set to measurement mode 1 starting measurement avery 0.9s after the previous one (waiting 100ms for the start pulse)\n"
   ],
   "cell_type": "markdown",
   "metadata": {}
  },
  {
   "source": [
    "#### Antenna_cable 6 Setup\n",
    "\n",
    "- The ImuBerry3 (192.168.1.72, RPi0) was generating 3MHz signal fed into the stop pin of TDC7200 connected to RPi3 (192.168.1.68).\n",
    "- The external GPS was generating 16MHz clock signal fed into the clock pins of TDC7200 and PIC12F675. The PIC divided the signal to 1 PPS which was connected to start pin of the TDC.\n",
    "- GNSS configuration was same for both receivers - GPS, Galileo, Beidou, No SBAS, 0 cable and receiver delays, reported GPS time.\n",
    "- TDC7200 was set to measurement mode 1 starting measurement avery 0.9s after the previous one (waiting 100ms for the start pulse)\n",
    "- from 1609314456.179 the RPi0 is switched to external antenna. Before internal was used.\n"
   ],
   "cell_type": "markdown",
   "metadata": {}
  },
  {
   "source": [
    "#### Antenna_cable 7 Setup\n",
    "\n",
    "- The ImuBerry3 (192.168.1.72, RPi0) was generating 3MHz signal fed into the stop pin of TDC7200 connected to RPi3 (192.168.1.68).\n",
    "- The external GPS was generating 16MHz clock signal fed into the clock pins of TDC7200 and PIC12F675. The PIC divided the signal to 1 PPS which was connected to start pin of the TDC.\n",
    "- GNSS configuration was same for both receivers - GPS, Galileo, Beidou, No SBAS, 0 cable and receiver delays, reported GPS time.\n",
    "- TDC7200 was set to measurement mode 1 starting measurement avery 0.9s after the previous one (waiting 100ms for the start pulse)\n",
    "- RPi0 GPS antenna cable delay configured to 20ns.\n",
    "- gps_comparison.csv is based on these data"
   ],
   "cell_type": "markdown",
   "metadata": {}
  },
  {
   "source": [
    "#### Antenna_cable 8 Setup\n",
    "\n",
    "- same as Antenna_cable 7 except the RPi0 GPS antenna cable delay set to 8ns"
   ],
   "cell_type": "markdown",
   "metadata": {}
  },
  {
   "source": [
    "#### Antenna_cable 9 Setup\n",
    "\n",
    "- same as Antenna_cable 7 except the RPi0 GPS antenna cable delay set to 28ns"
   ],
   "cell_type": "markdown",
   "metadata": {}
  },
  {
   "source": [
    "#### Antenna_cable 10 Setup\n",
    "\n",
    "- same as Antenna_cable 7 except the RPi0 GPS antenna cable delay set to 16ns\n",
    "- logging (sync) to elasticsearch"
   ],
   "cell_type": "markdown",
   "metadata": {}
  },
  {
   "source": [
    "#### Antenna_cable 11 Setup\n",
    "\n",
    "- same as Antenna_cable 7 except the RPi0 GPS antenna cable delay set to 0ns\n",
    "- logging (async) to elasticsearch"
   ],
   "cell_type": "markdown",
   "metadata": {}
  },
  {
   "cell_type": "code",
   "execution_count": null,
   "metadata": {},
   "outputs": [],
   "source": [
    "elasticusernamepassword = '...'"
   ]
  },
  {
   "cell_type": "code",
   "execution_count": 2,
   "metadata": {},
   "outputs": [],
   "source": [
    "\n",
    "import numpy as np\n",
    "import pandas as pd\n",
    "import matplotlib as mp\n",
    "import allantools as at         # see https://github.com/aewallin/allantools\n",
    "import datetime"
   ]
  },
  {
   "cell_type": "code",
   "execution_count": 13,
   "metadata": {
    "tags": []
   },
   "outputs": [],
   "source": [
    "fname = 'antenna_delay9'\n",
    "name = fname + '-28ns'\n",
    "filename = '/Users/dorsic/Documents/PhD/TDC7200/' + fname + '.tdc'\n",
    "indexname = 'tdc'\n",
    "\n",
    "def linetojson(line, clockMHz=3.0, name=None):\n",
    "    align = 1.0/(clockMHz*2000000)\n",
    "    lineparts = line.split(\" \")\n",
    "    ts = datetime.datetime.fromtimestamp(float(lineparts[0]))\n",
    "    tof = float(lineparts[2][2:-2]) if (lineparts[2][2:-2] != 'None') else None\n",
    "    tofa = None if not tof else (tof if tof < align else tof - 2*align)\n",
    "    tofa = None if not tof else (tof+align if tof < align else tof)\n",
    "    normLBS = float(lineparts[3][:-1])\n",
    "    time1 = int(lineparts[4][1:-2])\n",
    "    cal1 = int(lineparts[6][1:-1])\n",
    "    cal2 = int(lineparts[7][:-2])\n",
    "    res = {\"_index\": indexname, \"_type\": \"_doc\", \"_source\": {\"@timestamp\": ts, \"tof\": tof, \"tofa\": tofa, \"normLBS\": normLBS, \"time1\": time1, \"cal1\": cal1, \"cal2\": cal2, \"name\": name }}\n",
    "    return res\n",
    "\n",
    "def file_linecount(filename):\n",
    "    with open(filename) as f:\n",
    "        for i, l in enumerate(f):\n",
    "            pass\n",
    "    return i + 1\n"
   ]
  },
  {
   "cell_type": "code",
   "execution_count": 14,
   "metadata": {},
   "outputs": [
    {
     "output_type": "stream",
     "name": "stdout",
     "text": [
      "About to write 48879 records\n",
      "{'took': 2103, 'timed_out': False, 'total': 27048, 'deleted': 27048, 'batches': 28, 'version_conflicts': 0, 'noops': 0, 'retries': {'bulk': 0, 'search': 0}, 'throttled_millis': 0, 'requests_per_second': -1.0, 'throttled_until_millis': 0, 'failures': []}\n",
      "DONE\n"
     ]
    }
   ],
   "source": [
    "from elasticsearch import Elasticsearch, helpers\n",
    "\n",
    "nlines = file_linecount(filename)\n",
    "print(\"About to write {} records\".format(nlines-16))\n",
    "\n",
    "es = Elasticsearch(['https://' + elasticusernamepassword + '@rarach.northeurope.cloudapp.azure.com/elastic'])\n",
    "\n",
    "res = es.delete_by_query(index='tdc',doc_type='_doc', body={\"query\": {\"match\": {\"name\": name}}})\n",
    "print(res)\n",
    "\n",
    "def log_file(filename):\n",
    "    with open(filename, \"r\") as f:\n",
    "        for i in range(16):\n",
    "            f.readline()\n",
    "        for line in f:\n",
    "            yield linetojson(line, clockMHz=3, name=name)\n",
    "\n",
    "res = helpers.bulk(es, log_file(filename))\n",
    "print('DONE')"
   ]
  },
  {
   "cell_type": "code",
   "execution_count": 3,
   "metadata": {},
   "outputs": [
    {
     "output_type": "stream",
     "name": "stdout",
     "text": [
      "{'took': 282, 'timed_out': False, 'total': 5922, 'deleted': 5922, 'batches': 6, 'version_conflicts': 0, 'noops': 0, 'retries': {'bulk': 0, 'search': 0}, 'throttled_millis': 0, 'requests_per_second': -1.0, 'throttled_until_millis': 0, 'failures': []}\n"
     ]
    }
   ],
   "source": [
    "from elasticsearch import Elasticsearch, helpers\n",
    "es = Elasticsearch(['https://' + elasticusernamepassword + '@rarach.northeurope.cloudapp.azure.com/elastic'])\n",
    "res = es.delete_by_query(index='tdc',doc_type='_doc', body={\"query\": {\"match\": {\"name\": \"ad11-0ns\"}}})\n",
    "print(res)"
   ]
  },
  {
   "cell_type": "code",
   "execution_count": 2,
   "metadata": {},
   "outputs": [],
   "source": [
    "df = pd.read_csv(\"/Users/dorsic/Documents/PhD/TDC7200/gps_comparison.csv\", sep=\" \", )\n",
    "align = 1.0/(3*2000000)\n",
    "df.loc[df['TOF1'] < align, 'TOFA'] = df['TOF1']\n",
    "df.loc[df['TOF1'] >= align, 'TOFA'] = df['TOF1'] - 2*align"
   ]
  },
  {
   "cell_type": "code",
   "execution_count": 5,
   "metadata": {},
   "outputs": [
    {
     "output_type": "display_data",
     "data": {
      "text/plain": "  0%|          | 0/187743 [00:00<?, ?it/s]",
      "application/vnd.jupyter.widget-view+json": {
       "version_major": 2,
       "version_minor": 0,
       "model_id": "838f605d574e49a18b49a7c7f069e4f8"
      }
     },
     "metadata": {}
    }
   ],
   "source": [
    "from tqdm.notebook import tqdm\n",
    "from sklearn.linear_model import LinearRegression\n",
    "\n",
    "coefs = pd.DataFrame(columns=['coef', 'intercept'])\n",
    "with tqdm(total=len(df)) as pbar:\n",
    "    for i in range(2, len(df)):\n",
    "        x = np.array(range(i)).reshape((-1, 1))\n",
    "        y = np.array(df['TOFA'][0:i])\n",
    "        model = LinearRegression().fit(x, y)\n",
    "        coefs = coefs.append({'coef': model.coef_, 'intercept': model.intercept_}, ignore_index=True)\n",
    "        pbar.update(1)"
   ]
  },
  {
   "cell_type": "code",
   "execution_count": 6,
   "metadata": {},
   "outputs": [],
   "source": [
    "\n",
    "coefs.to_csv(\"/Users/dorsic/Documents/PhD/TDC7200/lin_regression.csv\")"
   ]
  },
  {
   "cell_type": "code",
   "execution_count": null,
   "metadata": {},
   "outputs": [],
   "source": []
  }
 ]
}